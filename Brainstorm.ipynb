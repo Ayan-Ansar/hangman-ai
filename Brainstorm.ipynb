{
 "cells": [
  {
   "cell_type": "code",
   "execution_count": 2,
   "id": "c0d74323-2d78-4a8a-bacf-93ee3f17eb7e",
   "metadata": {},
   "outputs": [],
   "source": [
    "import torch\n",
    "import torch.nn as nn\n",
    "from torch.nn import functional as F\n",
    "import numpy as np\n",
    "import pickle \n",
    "import random \n",
    "from collections import Counter\n",
    "from torch.nn.utils.rnn import pad_sequence, pack_padded_sequence\n",
    "import matplotlib.pyplot as plt\n",
    "\n",
    "random.seed(0)\n",
    "torch.manual_seed(220);"
   ]
  },
  {
   "cell_type": "code",
   "execution_count": 3,
   "id": "d5b50028-33b9-48e1-9548-25f7a89b0a9f",
   "metadata": {},
   "outputs": [
    {
     "name": "stdout",
     "output_type": "stream",
     "text": [
      "device = 'cuda'\n"
     ]
    }
   ],
   "source": [
    "device = 'cuda' if torch.cuda.is_available() else 'cpu'\n",
    "print(f'{device = }')"
   ]
  },
  {
   "cell_type": "code",
   "execution_count": 4,
   "id": "961d4269-c963-4afe-9eb3-65d5d73dbc6b",
   "metadata": {},
   "outputs": [],
   "source": [
    "with open('words_250000_train.txt', 'r', encoding='utf-8') as f:\n",
    "    text = f.read().splitlines()"
   ]
  },
  {
   "cell_type": "code",
   "execution_count": 5,
   "id": "c2f6e43d-66ce-458f-99ab-ca4ae4a062a0",
   "metadata": {},
   "outputs": [
    {
     "data": {
      "text/plain": [
       "['thyreohyal',\n",
       " 'verdancy',\n",
       " 'nonbolshevism',\n",
       " 'norml',\n",
       " 'consecrating',\n",
       " 'ginhound',\n",
       " 'yaffed',\n",
       " 'beats',\n",
       " 'squarechinned',\n",
       " 'skiagraphic']"
      ]
     },
     "execution_count": 5,
     "metadata": {},
     "output_type": "execute_result"
    }
   ],
   "source": [
    "random.shuffle(text)\n",
    "text[:10]"
   ]
  },
  {
   "cell_type": "code",
   "execution_count": 6,
   "id": "ba589cb5-66ed-407c-9718-b122c59b5ff9",
   "metadata": {},
   "outputs": [
    {
     "name": "stdout",
     "output_type": "stream",
     "text": [
      "BLOCK_SIZE = 29\n"
     ]
    }
   ],
   "source": [
    "BLOCK_SIZE = max(len(words) for words in text)\n",
    "print(f'{BLOCK_SIZE = }')"
   ]
  },
  {
   "cell_type": "code",
   "execution_count": 7,
   "id": "3f4a3077-c19c-4eba-a497-da90a8731478",
   "metadata": {},
   "outputs": [
    {
     "name": "stdout",
     "output_type": "stream",
     "text": [
      "VOCAB_SIZE = 28\n"
     ]
    }
   ],
   "source": [
    "charset = sorted(list(set(''.join(text))))\n",
    "stoi = {c:idx+2 for idx,c in enumerate(charset)}\n",
    "itos = {idx+2:c for idx,c in enumerate(charset)}\n",
    "stoi['.'] = 1\n",
    "itos[1] = '.'\n",
    "stoi[''] = 0\n",
    "itos[0] = ''\n",
    "encode = lambda x: [stoi[i] for i in x] \n",
    "decode = lambda x: ''.join([itos[i] for i in x])\n",
    "VOCAB_SIZE = len(stoi)\n",
    "print(f'{VOCAB_SIZE = }') "
   ]
  },
  {
   "cell_type": "code",
   "execution_count": 8,
   "id": "1b54364d-8b68-419d-8181-61fdfb8128eb",
   "metadata": {},
   "outputs": [],
   "source": [
    "def padding(x):\n",
    "    x = F.pad(x, (0, (BLOCK_SIZE - x.size()[0])), value=0)\n",
    "    return x"
   ]
  },
  {
   "cell_type": "code",
   "execution_count": 9,
   "id": "cd0f34f1-acbb-4d6a-9e4c-e90997d35633",
   "metadata": {},
   "outputs": [],
   "source": [
    "def build_dataset(words):\n",
    "    x = []\n",
    "    y = []\n",
    "    for word in words:\n",
    "        encoded = torch.tensor(encode(word))\n",
    "        input = torch.ones_like(encoded)\n",
    "        x.append(input) \n",
    "        sorted_letter_count = Counter(word).most_common()\n",
    "        g = [0]*26\n",
    "        prev = torch.clone(x[-1])\n",
    "        while not torch.all(prev != 1):\n",
    "            prev = torch.clone(x[-1])\n",
    "            for letter, _ in sorted_letter_count:\n",
    "                idx = ord(letter) - ord('a')\n",
    "                if g[idx] != 1:\n",
    "                    g[idx] = 1\n",
    "                    g_in = stoi[letter]\n",
    "                    break\n",
    "            y.append(g_in)\n",
    "            idxs = torch.where(encoded == g_in)[0]\n",
    "            prev[idxs] = g_in \n",
    "            if torch.any(prev == 1):\n",
    "                x.append(prev)\n",
    "            \n",
    "    # adding paddding to every input \n",
    "    x = pad_sequence(x, batch_first=True, padding_value=0)\n",
    "    x = F.pad(x, (0, (BLOCK_SIZE - x.size()[1])), value=0)\n",
    "    y = torch.tensor(y, dtype=torch.long)\n",
    "\n",
    "    return x,y \n",
    "\n",
    "random.shuffle(text)\n",
    "n1 = int(0.9*len(text))\n",
    "n2 = int(0.95*len(text))\n",
    "\n",
    "Xtr, Ytr = build_dataset(text[:n1])\n",
    "Xval, Yval = build_dataset(text[n1:n2])\n",
    "Xts, Yts  = build_dataset(text[n2:])\n",
    "\n",
    "# Xtr, Ytr = load_split('train')\n",
    "# Xval, Yval = load_split('val')\n",
    "# Xts, Yts = load_split('test')"
   ]
  },
  {
   "cell_type": "code",
   "execution_count": 10,
   "id": "2aba6227-21df-4cdc-a0e0-2abe5d76f731",
   "metadata": {},
   "outputs": [
    {
     "name": "stdout",
     "output_type": "stream",
     "text": [
      "Train Shape : torch.Size([1513547, 29]) torch.Size([1513547])\n",
      "Val Shape : torch.Size([83830, 29]) torch.Size([83830])\n",
      "Test Shape : torch.Size([83832, 29]) torch.Size([83832])\n"
     ]
    }
   ],
   "source": [
    "print(f'Train Shape : {Xtr.shape} {Ytr.shape}')\n",
    "print(f'Val Shape : {Xval.shape} {Yval.shape}')\n",
    "print(f'Test Shape : {Xts.shape} {Yts.shape}')"
   ]
  },
  {
   "cell_type": "code",
   "execution_count": 107,
   "id": "417b7081-c001-4ce8-92f6-7e64a2056932",
   "metadata": {},
   "outputs": [],
   "source": [
    "# hyperparemters \n",
    "LEARNING_RATE = 1e-4\n",
    "N_EMBD = 32\n",
    "HEAD_SIZE = 16\n",
    "BATCH_SIZE = 32\n",
    "EPOCHS = 100000"
   ]
  },
  {
   "cell_type": "code",
   "execution_count": 31,
   "id": "f875a492-09c7-4837-b83e-2257e3b50981",
   "metadata": {},
   "outputs": [],
   "source": [
    "def get_batch(split):\n",
    "    X, Y  = {'train': (Xtr, Ytr),\n",
    "            'val' : (Xval, Yval)}[split]\n",
    "    ix = torch.randint(0, X.shape[0], (BATCH_SIZE,))\n",
    "    xb, yb = X[ix].to(device), Y[ix].to(device)\n",
    "    return xb, yb\n",
    "\n",
    "\n",
    "@torch.no_grad()\n",
    "def split_loss():\n",
    "    model.eval()\n",
    "    out = {}\n",
    "    for split in ['train','val']:\n",
    "        losses = torch.zeros(200)\n",
    "        for k in range(200):\n",
    "            xb, yb = get_batch(split)\n",
    "            logits, loss = model(xb,yb)\n",
    "            losses[k] = loss.item()\n",
    "        out[split] = losses.mean()\n",
    "    model.train()\n",
    "    return out"
   ]
  },
  {
   "cell_type": "code",
   "execution_count": 51,
   "id": "a31af285-85dd-4332-9525-58ed98e0d454",
   "metadata": {},
   "outputs": [],
   "source": [
    "class Head(nn.Module):\n",
    "    def __init__(self, head_size):\n",
    "        super().__init__()\n",
    "        self.key = nn.Linear(N_EMBD, head_size, bias=False)\n",
    "        self.query = nn.Linear(N_EMBD, head_size, bias=False)\n",
    "        self.value = nn.Linear(N_EMBD, head_size, bias=False)\n",
    "        \n",
    "    def forward(self, x):\n",
    "        B,T,C = x.shape\n",
    "        idx_k = torch.where(x == 1)[0]\n",
    "        idx_q = torch.where(x != 1)[0]\n",
    "        k = self.key(x) # (B,T,C) \n",
    "        q = self.query(x) # (B,T,C)\n",
    "        # k[idx_k, :] = 0\n",
    "        # q[idx_q, :] = 0\n",
    "        \n",
    "        # compute attention scores ('affinities')        \n",
    "        wei = q @ k.transpose(-2, -1) * C**-0.5 # (B,T,C) @ (B,C,T) --> (B,T,T)\n",
    "        # wei = wei.masked_fill(wei[:,:T,:T] == 0, float('-inf'))\"\n",
    "        wei = F.softmax(wei, dim=-1) # (B,T,T)\n",
    "        # nan_mask = torch.isnan(wei)\n",
    "        \n",
    "        # # Set NaN values to 0\n",
    "        # wei[nan_mask] = 0\n",
    "\n",
    "        # perform the weighted aggregation of values \n",
    "        v = self.value(x)\n",
    "        out = wei @ v # (B,T,T) @ (B,T,C) --> (B,T,C)\n",
    "        return out "
   ]
  },
  {
   "cell_type": "code",
   "execution_count": 96,
   "id": "fb9e0afe-5f64-429f-b0c9-34d0f99006a2",
   "metadata": {},
   "outputs": [],
   "source": [
    "class Block(nn.Module):\n",
    "    def __init__(self):\n",
    "        super().__init__()\n",
    "        self.sa = Head(HEAD_SIZE)\n",
    "        self.ln = nn.LayerNorm(HEAD_SIZE)\n",
    "\n",
    "    def forward(self, x):\n",
    "        x = self.ln(self.sa(x))\n",
    "        return x "
   ]
  },
  {
   "cell_type": "code",
   "execution_count": 97,
   "id": "60bc5369-7a28-487a-ac11-adc34515d6fe",
   "metadata": {},
   "outputs": [],
   "source": [
    "class Model(nn.Module):\n",
    "    def __init__(self):\n",
    "        super().__init__()\n",
    "        self.token_embd = nn.Embedding(VOCAB_SIZE, N_EMBD) # B, T, C \n",
    "        self.pos_embd = nn.Embedding(BLOCK_SIZE, N_EMBD)\n",
    "        self.block = Block()\n",
    "        self.ln = nn.LayerNorm(N_EMBD)\n",
    "        self.output = nn.Linear(HEAD_SIZE*BLOCK_SIZE, VOCAB_SIZE)\n",
    "\n",
    "    def forward(self, x, target = None):\n",
    "        B, T = x.shape\n",
    "        tok = self.token_embd(x) # B, T, C\n",
    "        pos = self.pos_embd(torch.arange(BLOCK_SIZE,device=device))\n",
    "        x = tok + pos\n",
    "        x = self.ln(x)\n",
    "        x = self.block(x)\n",
    "        x = x.view(B, -1)\n",
    "        logits = self.output(x) # B, vocab_size\n",
    "        \n",
    "        if target is None:\n",
    "            loss = None\n",
    "        else:\n",
    "            loss = F.cross_entropy(logits, target)\n",
    "            \n",
    "        return logits, loss  \n",
    "\n",
    "    def guess(self, context, guessed_letters):\n",
    "        with torch.no_grad():\n",
    "            context = context.view(1,-1)\n",
    "            logits, _ = self(context)\n",
    "            probs = F.softmax(logits, dim=-1)\n",
    "            ix = torch.argmax(probs).item()\n",
    "            while guessed_letters[ix-2] == 1:\n",
    "                ix = torch.multinomial(probs, num_samples=1).item()\n",
    "            return ix  \n",
    "\n",
    "    def play(self, word, verbose=False):\n",
    "        input = torch.tensor([1] * len(word))\n",
    "        encoded = encode(word)\n",
    "        context = padding(input).to(device)\n",
    "        chances = 6\n",
    "        guessed_letters = [0]*26 \n",
    "        while chances > 0:\n",
    "            ix = self.guess(context, guessed_letters)\n",
    "            guessed_letters[ix-2] = 1 \n",
    "            idx = np.where(np.array(encoded) == ix)[0]\n",
    "            if idx.size != 0:\n",
    "                context[idx] = ix\n",
    "            else:\n",
    "                chances -= 1\n",
    "            w = np.array(context.view(-1).cpu())\n",
    "            if verbose == True:\n",
    "                print(f'Guessed --- {itos[ix]} for Context {decode(w)}', end='\\n') \n",
    "            if decode(w) == word:\n",
    "                return 1\n",
    "        return 0"
   ]
  },
  {
   "cell_type": "code",
   "execution_count": 98,
   "id": "013f93a2-c88c-43e5-b1b5-a37cc50d8952",
   "metadata": {},
   "outputs": [
    {
     "data": {
      "text/plain": [
       "16476"
      ]
     },
     "execution_count": 98,
     "metadata": {},
     "output_type": "execute_result"
    }
   ],
   "source": [
    "model = Model()\n",
    "m = model.to(device)\n",
    "optimizer = torch.optim.AdamW(model.parameters(), lr=LEARNING_RATE)\n",
    "num_params = sum(p.numel() for p in model.parameters(recurse=True))\n",
    "num_params"
   ]
  },
  {
   "cell_type": "code",
   "execution_count": 108,
   "id": "d114e481-7ac4-4798-ae63-4b1340ff2915",
   "metadata": {},
   "outputs": [],
   "source": [
    "optimizer = torch.optim.AdamW(model.parameters(), lr=LEARNING_RATE)\n"
   ]
  },
  {
   "cell_type": "code",
   "execution_count": 109,
   "id": "1202ae05-49be-4fdd-a199-d4aa25789b8b",
   "metadata": {},
   "outputs": [],
   "source": [
    "lossi_1 = []\n",
    "lossi_2 = []\n",
    "ud = []\n",
    "# lri = []\n",
    "# lre = torch.linspace(-4, 0, 1000)\n",
    "# lrs = 10**lre"
   ]
  },
  {
   "cell_type": "code",
   "execution_count": 110,
   "id": "c6c382db-cfed-4470-9e6b-9a2869f26a2c",
   "metadata": {},
   "outputs": [
    {
     "name": "stdout",
     "output_type": "stream",
     "text": [
      "step 0: train loss 2.2830, val loss 2.3277\n",
      "step 10000: train loss 2.2811, val loss 2.2947\n",
      "step 20000: train loss 2.2678, val loss 2.2912\n",
      "step 30000: train loss 2.2909, val loss 2.2680\n",
      "step 40000: train loss 2.2606, val loss 2.2793\n",
      "step 50000: train loss 2.2567, val loss 2.2855\n",
      "step 60000: train loss 2.2710, val loss 2.2768\n",
      "step 70000: train loss 2.2767, val loss 2.2500\n",
      "step 80000: train loss 2.2422, val loss 2.2545\n",
      "step 90000: train loss 2.2365, val loss 2.2665\n",
      "step 100000: train loss 2.2604, val loss 2.2418\n"
     ]
    }
   ],
   "source": [
    "for epoch in range(EPOCHS):\n",
    "    if epoch % 10000 == 0:\n",
    "        loss = split_loss()\n",
    "        print(f\"step {epoch}: train loss {loss['train']:.4f}, val loss {loss['val']:.4f}\")\n",
    "\n",
    "    xb, yb = get_batch('train')\n",
    "    logits, loss = model(xb, yb)\n",
    "    \n",
    "    # for name, p in model.named_parameters():\n",
    "    #     p.retain_grad = True\n",
    "\n",
    "    optimizer.zero_grad(set_to_none=True)\n",
    "    lossi_2.append(loss.item())\n",
    "    loss.backward()\n",
    "    optimizer.step()\n",
    "    # with torch.no_grad(): \n",
    "    #     ud.append([(LEARNING_RATE*p.grad.std() / p.data.std()).log10().item() for _, p in model.named_parameters()]) \n",
    "    # # break\n",
    "loss = split_loss()\n",
    "print(f\"step {EPOCHS}: train loss {loss['train']:.4f}, val loss {loss['val']:.4f}\")"
   ]
  },
  {
   "cell_type": "markdown",
   "id": "38214698-a9ba-4a57-a9d0-85b4814c0210",
   "metadata": {},
   "source": [
    "------------------------------------- MODEL PERFORMANCE ---------------------------------"
   ]
  },
  {
   "cell_type": "markdown",
   "id": "e34d2eb5-f610-4758-8f69-682643df2276",
   "metadata": {},
   "source": [
    "1. token embedding + output layer: (30k)\n",
    "\n",
    "   train_loss = 2.67, val_loss = 2.69 \n",
    "2. token embedding + hidden layer + tanh + output: (85k)\n",
    "\n",
    "    train_loss : 2.60, val_loss = 2.62 \n",
    "3. token embedding + hidden layer + ReLU + output: (85K) (1e-3)\n",
    "   \n",
    "    train_loss : 2.53, val_loss = 2.55\n",
    "\n",
    "4. token embedding + pos embedding + self head attention + layer Norm + output = (16k) (1e-3)\n",
    " \n",
    "    train_loss : 2.3801, val_loss = 2.3589\n"
   ]
  },
  {
   "cell_type": "markdown",
   "id": "c85c455f-b616-4341-b33a-e05b09c8cd0e",
   "metadata": {},
   "source": [
    "------------------------------------------- GRAPHS --------------------------------------------"
   ]
  },
  {
   "cell_type": "code",
   "execution_count": 64,
   "id": "b5382f26-1cbe-48a2-8acd-0d2ee3f2a57a",
   "metadata": {},
   "outputs": [],
   "source": [
    "def activations_plot():\n",
    "    plt.figure(figsize=(20,4))\n",
    "    legends = []\n",
    "    for i, (name, layer) in enumerate(model.named_modules()):\n",
    "        if isinstance(layer, Tanh) or isintance(layer, ReLU):\n",
    "            t = layer.out.cpu()\n",
    "            print('layer %d (%10s) : mean%+.2f, std %.2f, saturated %.2f%%' % (i, layer.__class__.__name__, t.mean(), t.std(), (t.abs() > 0.97).float().mean()*100))\n",
    "            hy, hx = torch.histogram(t, density=True)\n",
    "            plt.plot(hx[:-1].detach(), hy.detach()) \n",
    "            legends.append(f'layer {i} ({layer.__class__.__name__})')\n",
    "    plt.legend(legends)\n",
    "    plt.title('activation distribution')\n",
    "\n",
    "# activations_plot() "
   ]
  },
  {
   "cell_type": "code",
   "execution_count": 105,
   "id": "66f762ae-25a5-4b6c-83be-3e5d88d43c1c",
   "metadata": {},
   "outputs": [],
   "source": [
    "def grad_2_data_ratio():\n",
    "    plt.figure(figsize=(20,6))\n",
    "    legends = []\n",
    "    for i, (name, p) in enumerate(list(model.named_parameters())[:-2]):\n",
    "        if p.ndim == 2:\n",
    "            plt.plot([ud[j][i] for j in range(len(ud))])\n",
    "            legends.append(f'params: {name}')\n",
    "    plt.plot([0, len(ud)], [-3, -3], 'k') # these ratios should be ~1e-3\n",
    "    plt.legend(legends) \n",
    "\n",
    "# grad_2_data_ratio()"
   ]
  },
  {
   "cell_type": "code",
   "execution_count": 111,
   "id": "75b82eb0-b3ee-4d04-a298-b0b9e23d2314",
   "metadata": {},
   "outputs": [
    {
     "data": {
      "image/png": "[encoded data removed]",
      "text/plain": [
       "<Figure size 640x480 with 1 Axes>"
      ]
     },
     "metadata": {},
     "output_type": "display_data"
    }
   ],
   "source": [
    "plt.plot(torch.tensor(lossi).view(-1,100).mean(dim=1))\n",
    "plt.plot(torch.tensor(lossi_2).view(-1,100).mean(dim=1))\n",
    "plt.show()\n"
   ]
  },
  {
   "cell_type": "markdown",
   "id": "d4050afd-a82b-453f-8ec9-1a38e7947a85",
   "metadata": {},
   "source": [
    "------------------------------------ INFERENCE --------------------------------------------------"
   ]
  },
  {
   "cell_type": "code",
   "execution_count": 130,
   "id": "cb871958-d5f5-4764-8842-1907cc87a50c",
   "metadata": {
    "scrolled": true
   },
   "outputs": [
    {
     "name": "stdout",
     "output_type": "stream",
     "text": [
      "Guessed --- a for Context .a...a.\n",
      "Guessed --- l for Context .a...a.\n",
      "Guessed --- d for Context .a...a.\n",
      "Guessed --- g for Context .a.g.a.\n",
      "Guessed --- b for Context .a.g.a.\n",
      "Guessed --- m for Context .a.gma.\n",
      "Guessed --- j for Context .a.gma.\n",
      "Guessed --- t for Context .a.gma.\n",
      "Guessed --- k for Context .a.gma.\n"
     ]
    },
    {
     "data": {
      "text/plain": [
       "0"
      ]
     },
     "execution_count": 130,
     "metadata": {},
     "output_type": "execute_result"
    }
   ],
   "source": [
    "m.play('hangman', verbose=True)"
   ]
  },
  {
   "cell_type": "code",
   "execution_count": 113,
   "id": "899ab6c8-9801-4c1d-85f0-7d62d376a8c9",
   "metadata": {},
   "outputs": [],
   "source": [
    "# !pip install nltk\n",
    "# import nltk \n",
    "# nltk.download('words')\n",
    "from nltk.corpus import words"
   ]
  },
  {
   "cell_type": "code",
   "execution_count": 114,
   "id": "13f8241f-a26e-4605-9593-7e3389acaf26",
   "metadata": {},
   "outputs": [],
   "source": [
    "def generate_random_words(num_words):\n",
    "    # Get a list of English words using the words module from NLTK\n",
    "    english_words = words.words()\n",
    "    \n",
    "    # Initialize an empty list to store the generated random words\n",
    "    random_word_list = []\n",
    "\n",
    "    # Iterate to generate the specified number of random words\n",
    "    for i in range(num_words):\n",
    "        # Use random.sample to obtain a random word from the English words list\n",
    "        sample = random.sample(english_words, 1)[0]\n",
    "        random_word_list.append(sample)\n",
    "    # Return the list of generated random words\n",
    "    return random_word_list"
   ]
  },
  {
   "cell_type": "code",
   "execution_count": 115,
   "id": "9a331cf9-43cc-4584-89f0-112895c0e79a",
   "metadata": {},
   "outputs": [],
   "source": [
    "english_words = generate_random_words(1000)\n",
    "english_words = [w.lower() for w in english_words]"
   ]
  },
  {
   "cell_type": "code",
   "execution_count": 116,
   "id": "f212ebee-f7d7-4623-a4b1-7455bb953be1",
   "metadata": {},
   "outputs": [],
   "source": [
    "wins = 0 "
   ]
  },
  {
   "cell_type": "code",
   "execution_count": 117,
   "id": "6c115166-c226-4079-a8ac-312ad1e99f84",
   "metadata": {},
   "outputs": [],
   "source": [
    "for i in english_words:\n",
    "    wins += m.play(i)"
   ]
  },
  {
   "cell_type": "code",
   "execution_count": 118,
   "id": "2337f23e-6f0f-42df-95e8-de385d3c84c2",
   "metadata": {},
   "outputs": [
    {
     "name": "stdout",
     "output_type": "stream",
     "text": [
      "16.4000 %\n"
     ]
    }
   ],
   "source": [
    "win_per = (wins / len(english_words))*100\n",
    "print(f'{win_per:.4f} %')"
   ]
  },
  {
   "cell_type": "code",
   "execution_count": 119,
   "id": "f764218f-5594-4bf6-a454-08d20844779d",
   "metadata": {},
   "outputs": [],
   "source": [
    "model_path = 'simple_model.pth'\n",
    "\n",
    "# Save the model\n",
    "torch.save(m.state_dict(), model_path)"
   ]
  },
  {
   "cell_type": "code",
   "execution_count": null,
   "id": "2fecb8aa-cb4f-43f4-9028-7caf18304c88",
   "metadata": {},
   "outputs": [],
   "source": []
  }
 ],
 "metadata": {
  "kernelspec": {
   "display_name": "Python 3 (ipykernel)",
   "language": "python",
   "name": "python3"
  },
  "language_info": {
   "codemirror_mode": {
    "name": "ipython",
    "version": 3
   },
   "file_extension": ".py",
   "mimetype": "text/x-python",
   "name": "python",
   "nbconvert_exporter": "python",
   "pygments_lexer": "ipython3",
   "version": "3.8.18"
  }
 },
 "nbformat": 4,
 "nbformat_minor": 5
}
